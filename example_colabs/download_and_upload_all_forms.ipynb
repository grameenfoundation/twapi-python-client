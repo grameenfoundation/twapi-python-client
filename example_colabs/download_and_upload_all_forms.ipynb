{
 "cells": [
  {
   "cell_type": "code",
   "execution_count": null,
   "metadata": {},
   "outputs": [],
   "source": [
    "import http.client\n",
    "import json\n",
    "from types import SimpleNamespace\n",
    "import pandas as pd\n",
    "from urllib.parse import quote\n",
    "!pip install xlsxwriter\n",
    "pd.set_option('display.max_colwidth', None)\n",
    "from lib.download_utilities import get_all_forms_in_org\n",
    "from lib.shared_utilities import get_oauth_token_from_login\n",
    "from lib.upload_utilities import upload_all_files_in_folder\n",
    "\n",
    "url_to_query = \"my_org_url\"\n",
    "# Note that org URLs shouldn't start with \"http\", so they should be like:\n",
    "# ability-energy-2891-dev-ed.scratch.my.salesforce.com\n",
    "\n",
    "# These are defined in your salesforce org for the \"connected app\"\n",
    "client_id = \"my_id\"\n",
    "client_secret = \"my_secret\"\n",
    "\n",
    "# These are your login credentials to salesforce\n",
    "username = \"my_username\"\n",
    "password = \"my_password\"\n",
    "\n",
    "salesforce_service_url = \"/services/apexrest/twapi/\"\n",
    "workingDirectory = \"/tmp\"\n",
    "\n",
    "auth_header =  get_oauth_token_from_login(url_to_query, client_id, client_secret, username, password)\n",
    "print(auth_header)\n",
    "\n",
    "\n",
    "\n"
   ]
  },
  {
   "cell_type": "code",
   "execution_count": null,
   "metadata": {},
   "outputs": [],
   "source": [
    "# Download all forms in the org\n",
    "get_all_forms_in_org(url_to_query,salesforce_service_url,auth_header,workingDirectory)"
   ]
  },
  {
   "cell_type": "code",
   "execution_count": null,
   "metadata": {},
   "outputs": [],
   "source": [
    "# Upload all forms in folder to org\n",
    "upload_all_files_in_folder(url_to_query,salesforce_service_url,auth_header,workingDirectory)"
   ]
  }
 ],
 "metadata": {
  "language_info": {
   "name": "python"
  },
  "orig_nbformat": 4
 },
 "nbformat": 4,
 "nbformat_minor": 2
}
