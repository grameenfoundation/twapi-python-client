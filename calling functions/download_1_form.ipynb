{
 "cells": [
  {
   "cell_type": "code",
   "execution_count": null,
   "metadata": {},
   "outputs": [],
   "source": [
    "import http.client\n",
    "import json\n",
    "from types import SimpleNamespace\n",
    "import pandas as pd\n",
    "from urllib.parse import quote\n",
    "!pip install xlsxwriter\n",
    "pd.set_option('display.max_colwidth', None)\n",
    "\n",
    "auth_header = get_oauth_token_from_login()\n",
    "print(auth_header)\n",
    "\n",
    "getAllDataFramesAndWriteToExcelFromFormName(\"Lightning Survey 01\")\n",
    "\n",
    "!cp /tmp/*.xlsx \"{workingDirectory}\""
   ]
  }
 ],
 "metadata": {
  "language_info": {
   "name": "python"
  },
  "orig_nbformat": 4
 },
 "nbformat": 4,
 "nbformat_minor": 2
}
